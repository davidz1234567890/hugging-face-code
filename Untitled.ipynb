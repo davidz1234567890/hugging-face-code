{
 "cells": [
  {
   "cell_type": "code",
   "execution_count": 5,
   "id": "c85585a4-b923-4cac-8408-72112d24e1dc",
   "metadata": {},
   "outputs": [
    {
     "ename": "SyntaxError",
     "evalue": "invalid syntax (341042927.py, line 1)",
     "output_type": "error",
     "traceback": [
      "\u001b[1;36m  Cell \u001b[1;32mIn[5], line 1\u001b[1;36m\u001b[0m\n\u001b[1;33m    pip install torch\u001b[0m\n\u001b[1;37m        ^\u001b[0m\n\u001b[1;31mSyntaxError\u001b[0m\u001b[1;31m:\u001b[0m invalid syntax\n"
     ]
    }
   ],
   "source": [
    "pip install torch\n",
    "\n",
    "import torch\n",
    "import os\n",
    "import numpy as np\n",
    "from bertviz import head_view, model_view\n",
    "import pickle\n",
    "import matplotlib.pyplot as plt\n",
    "from accelerate import disk_offload, infer_auto_device_map, init_empty_weights\n",
    "from accelerate import load_checkpoint_and_dispatch\n",
    "from transformers import AutoTokenizer, LlamaModel, LlamaConfig\n",
    "from transformers import LlamaForTokenClassification,LlamaTokenizerFast\n",
    "from transformers import LlamaForCausalLM\n",
    "from transformers import AutoModelForCausalLM, BitsAndBytesConfig,AutoConfig"
   ]
  },
  {
   "cell_type": "code",
   "execution_count": null,
   "id": "dac7deb1-4afc-471c-955d-b620c3e37b98",
   "metadata": {},
   "outputs": [],
   "source": [
    "print(\"hello world\")"
   ]
  }
 ],
 "metadata": {
  "kernelspec": {
   "display_name": "My project (myenv)",
   "language": "python",
   "name": "myenv"
  },
  "language_info": {
   "codemirror_mode": {
    "name": "ipython",
    "version": 3
   },
   "file_extension": ".py",
   "mimetype": "text/x-python",
   "name": "python",
   "nbconvert_exporter": "python",
   "pygments_lexer": "ipython3",
   "version": "3.10.7"
  }
 },
 "nbformat": 4,
 "nbformat_minor": 5
}
